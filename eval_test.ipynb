{
 "cells": [
  {
   "cell_type": "code",
   "execution_count": 36,
   "metadata": {},
   "outputs": [],
   "source": [
    "import matplotlib.pyplot as plt\n",
    "import matplotlib as mpl\n",
    "import pandas as pd\n",
    "import numpy as np\n",
    "import os\n",
    "from prettytable import PrettyTable"
   ]
  },
  {
   "cell_type": "code",
   "execution_count": 37,
   "metadata": {},
   "outputs": [],
   "source": [
    "def eval2(data: np.ndarray) -> np.ndarray:\n",
    "    eq = np.zeros((data.shape[0], 4), dtype=np.float32)\n",
    "    eq[:, 0] = data[:, 1] > data[:, 2]\n",
    "    eq[:, 1] = (3600 - data[:, 3]) / 3600.0\n",
    "    eq[:, 2] = data[:, 1] / 400.0\n",
    "    eq[:, 3] = (400 - data[:, 2]) / 400.0\n",
    "    return eq.mean(axis=1)\n",
    "\n",
    "def load1(log_dir: str) -> np.ndarray:\n",
    "    lst = list()\n",
    "    for i, file in enumerate(os.listdir(log_dir)):\n",
    "        data = pd.read_csv(os.path.join(log_dir, file)).processing_time.to_numpy()\n",
    "        lst.extend(data)\n",
    "    return np.array(lst, dtype=np.float32)\n",
    "\n",
    "def load2(log_dir: str) -> np.ndarray:\n",
    "    lst = list()\n",
    "    for file in os.listdir(log_dir):\n",
    "        data = pd.read_csv(os.path.join(log_dir, file), header=None).to_numpy()\n",
    "        lst.append(eval2(data))\n",
    "    return np.array(lst, dtype=np.float32).flatten()"
   ]
  },
  {
   "cell_type": "code",
   "execution_count": 38,
   "metadata": {},
   "outputs": [],
   "source": [
    "data_dir = \"data\\\\EggTart\"\n",
    "data = [os.path.join(data_dir, x) for x in os.listdir(data_dir)]"
   ]
  },
  {
   "attachments": {},
   "cell_type": "markdown",
   "metadata": {},
   "source": [
    "### gRPC"
   ]
  },
  {
   "cell_type": "code",
   "execution_count": 39,
   "metadata": {},
   "outputs": [
    {
     "name": "stdout",
     "output_type": "stream",
     "text": [
      "+----------------------------+--------+------------+--------------------+\n",
      "|           Title            |   N    |    Mean    |        P95         |\n",
      "+----------------------------+--------+------------+--------------------+\n",
      "|     data\\EggTart\\Java      | 176249 |  16.29569  | 16.655760192871096 |\n",
      "|  data\\EggTart\\Java-15.15   | 648795 | 15.9729595 | 16.436800003051758 |\n",
      "|   data\\EggTart\\Java-15.5   | 577440 | 16.298792  | 16.700109958648667 |\n",
      "| data\\EggTart\\Java-baseline | 831129 | 0.65972114 | 0.762499988079071  |\n",
      "+----------------------------+--------+------------+--------------------+\n"
     ]
    }
   ],
   "source": [
    "tab = PrettyTable(['Title', 'N', 'Mean', 'P95'])\n",
    "for x in data:\n",
    "    d = load1(os.path.join(x, \"grpc\"))[6:]\n",
    "    tab.add_row([x, d.shape[0], d.mean(), np.percentile(d, 95)])\n",
    "print(tab)"
   ]
  },
  {
   "attachments": {},
   "cell_type": "markdown",
   "metadata": {},
   "source": [
    "### Point (Mean of score each round)"
   ]
  },
  {
   "cell_type": "code",
   "execution_count": 40,
   "metadata": {},
   "outputs": [
    {
     "name": "stdout",
     "output_type": "stream",
     "text": [
      "+----------------------------+-----+------------+-------------+\n",
      "|           Title            |  N  |    Mean    |     Std     |\n",
      "+----------------------------+-----+------------+-------------+\n",
      "|     data\\EggTart\\Java      |  93 | 0.1937761  | 0.026599402 |\n",
      "|  data\\EggTart\\Java-15.15   | 300 | 0.19422546 | 0.026576493 |\n",
      "|   data\\EggTart\\Java-15.5   | 300 | 0.19095418 | 0.033067062 |\n",
      "| data\\EggTart\\Java-baseline | 300 | 0.41477662 |  0.2874662  |\n",
      "+----------------------------+-----+------------+-------------+\n"
     ]
    }
   ],
   "source": [
    "tab = PrettyTable(['Title', 'N', 'Mean', 'Std'])\n",
    "for x in data:\n",
    "    d = load2(os.path.join(x, \"point\"))[6:]\n",
    "    tab.add_row([x, d.shape[0], d.mean(), d.std()])\n",
    "print(tab)"
   ]
  }
 ],
 "metadata": {
  "kernelspec": {
   "display_name": "grpc",
   "language": "python",
   "name": "python3"
  },
  "language_info": {
   "codemirror_mode": {
    "name": "ipython",
    "version": 3
   },
   "file_extension": ".py",
   "mimetype": "text/x-python",
   "name": "python",
   "nbconvert_exporter": "python",
   "pygments_lexer": "ipython3",
   "version": "3.10.10"
  },
  "orig_nbformat": 4
 },
 "nbformat": 4,
 "nbformat_minor": 2
}
